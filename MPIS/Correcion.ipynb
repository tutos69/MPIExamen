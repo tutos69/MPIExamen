{
 "cells": [
  {
   "cell_type": "code",
   "execution_count": 7,
   "metadata": {
    "colab": {
     "base_uri": "https://localhost:8080/"
    },
    "id": "QrHOFMwltfkU",
    "outputId": "24fb0574-bab5-48d9-ab19-e9c23c7dbf33"
   },
   "outputs": [],
   "source": [
    "# generación de matrices\n",
    "import numpy as np   \n",
    "import multiprocessing\n",
    "\n",
    "size_ = (2048,2048)\n",
    "matriz1 = np.random.randint(10, size=size_).astype(\"float\") / 100\n",
    "matriz2 = np.random.randint(10, size=size_).astype(\"float\") / 100\n"
   ]
  },
  {
   "cell_type": "code",
   "execution_count": 8,
   "metadata": {
    "id": "_F_FzCHNHyXY"
   },
   "outputs": [],
   "source": [
    "import multiprocessing\n",
    "from multiprocessing import Array\n",
    "import time"
   ]
  },
  {
   "cell_type": "code",
   "execution_count": 9,
   "metadata": {
    "id": "BeY268P4vNAq"
   },
   "outputs": [],
   "source": [
    "def multiplicacion(filas,columnas,resultado,posicion):\n",
    "    filas_a = len(filas[0])\n",
    "    filas_b = len(columnas)\n",
    "    columnas_a = len(filas[1])\n",
    "    columnas_b = len(columnas[0])\n",
    "    size_ = (filas_a,filas_b)\n",
    "    calculo = np.zeros(dtype=float, shape=size_)\n",
    "    for i in range(filas_a):\n",
    "        for j in range(filas_b):\n",
    "            suma = 0\n",
    "            for k in range(filas_b):\n",
    "                suma += filas[posicion][i][k] * columnas[k][j]\n",
    "            calculo[i][j] = suma\n",
    "        \n",
    "    resultado[posicion]=calculo"
   ]
  },
  {
   "cell_type": "code",
   "execution_count": 10,
   "metadata": {
    "colab": {
     "base_uri": "https://localhost:8080/"
    },
    "id": "nCqMbF-Qxep2",
    "outputId": "f7a15db3-254e-48f3-a110-a481fa407e4f"
   },
   "outputs": [
    {
     "name": "stdout",
     "output_type": "stream",
     "text": [
      "1087.740266084671\n",
      "El proceso de multiplicacion las matrices paralelamente se ejecutó en 1087 segundos\n"
     ]
    }
   ],
   "source": [
    "if __name__ == \"__main__\": \n",
    "    inicio = time.time()\n",
    "    \n",
    "    manager = multiprocessing.Manager()\n",
    "    resultado = manager.list([0,0,0,0,0,0,0,0])\n",
    "    filas=np.vsplit(matriz1,8)\n",
    "    columnas=matriz2\n",
    "    arregloProcesos=[]\n",
    "    \n",
    "    \n",
    "    for i in range(0,8):\n",
    "        proceso=multiprocessing.Process(target=multiplicacion,args=(filas,columnas,resultado,i))\n",
    "        arregloProcesos.append(proceso)\n",
    "        proceso.start()   \n",
    "\n",
    "    for i in arregloProcesos:\n",
    "        i.join()\n",
    "   \n",
    "    fin = time.time() \n",
    "    tiempoP=fin - inicio\n",
    "    print(tiempoP)\n",
    "    print(\"El proceso de multiplicacion las matrices paralelamente se ejecutó en %d segundos\" % (fin - inicio))\n",
    "    "
   ]
  },
  {
   "cell_type": "code",
   "execution_count": 11,
   "metadata": {
    "id": "uKX7-i2YH3Ok"
   },
   "outputs": [
    {
     "name": "stdout",
     "output_type": "stream",
     "text": [
      "Mis resultados obtenidos\n",
      "0.090000 * 0.080000 = 4.065200\n",
      "0.070000 * 0.050000 = 4.152900\n",
      "0.080000 * 0.090000 = 4.319500\n",
      "0.080000 * 0.050000 = 4.125300\n",
      "0.020000 * 0.080000 = 4.170500\n",
      "Resultados de numpy\n",
      "0.090000 * 0.080000 = 4.065200\n",
      "0.070000 * 0.050000 = 4.152900\n",
      "0.080000 * 0.090000 = 4.319500\n",
      "0.080000 * 0.050000 = 4.125300\n",
      "0.020000 * 0.080000 = 4.170500\n",
      "¿Los resultados son correctos? True\n"
     ]
    }
   ],
   "source": [
    "# comprobando los resultados\n",
    "\n",
    "ListaUnida = np.concatenate((resultado[0],resultado[1],resultado[2],resultado[3],resultado[4],resultado[5],resultado[6],resultado[7]), axis=0)\n",
    "print('Mis resultados obtenidos')\n",
    "for i in range(5):\n",
    "  print(\"%f * %f = %f\" % (matriz1[i][i], matriz2[i][i], resultado[0][i][i]))\n",
    "\n",
    "print('Resultados de numpy')\n",
    "\n",
    "producto_res = np.dot(matriz1, matriz2)\n",
    "for i in range(5):\n",
    "  print(\"%f * %f = %f\" % (matriz1[i][i], matriz2[i][i], producto_res[i][i]))\n",
    "\n",
    "print('¿Los resultados son correctos?', np.allclose(ListaUnida, producto_res))"
   ]
  },
  {
   "cell_type": "code",
   "execution_count": 6,
   "metadata": {
    "id": "_Y39PfVYxOg5"
   },
   "outputs": [],
   "source": [
    "#TODO: imprimir los primeros cinco valores de los resultados obtenidos en el multiprocesamiento y comparar sus valores con el producto de numpy\n",
    "#print('¿Los resultados son correctos?', np.allclose(producto, producto_res))"
   ]
  },
  {
   "cell_type": "markdown",
   "metadata": {
    "id": "yHFryXEM3DXt"
   },
   "source": [
    "# Presentación de resultados\n",
    "\n",
    "***Completar la información*** ✌\n",
    "\n",
    "\n",
    "*   Tiempo de ejecución en secuencial = \n",
    "*   Tiempo de ejecución en paralelo =\n",
    "*   Aceleramiento =\n",
    "*   Eficiencia =\n",
    "\n"
   ]
  },
  {
   "cell_type": "markdown",
   "metadata": {
    "id": "DkiRhS_K4pBv"
   },
   "source": [
    "# Conclusiones\n",
    "\n",
    "***Completar la información*** ✌\n",
    "\n",
    "Con base a los resultados obtenidos, incluir conclusiones apropiadas del desarrollo del problema"
   ]
  }
 ],
 "metadata": {
  "colab": {
   "provenance": []
  },
  "kernelspec": {
   "display_name": "Python 3",
   "language": "python",
   "name": "python3"
  },
  "language_info": {
   "codemirror_mode": {
    "name": "ipython",
    "version": 3
   },
   "file_extension": ".py",
   "mimetype": "text/x-python",
   "name": "python",
   "nbconvert_exporter": "python",
   "pygments_lexer": "ipython3",
   "version": "3.11.0 (main, Oct 24 2022, 18:26:48) [MSC v.1933 64 bit (AMD64)]"
  },
  "vscode": {
   "interpreter": {
    "hash": "c261aea317cc0286b3b3261fbba9abdec21eaa57589985bb7a274bf54d6cc0a7"
   }
  }
 },
 "nbformat": 4,
 "nbformat_minor": 1
}
