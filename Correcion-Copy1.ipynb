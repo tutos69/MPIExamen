{
 "cells": [
  {
   "cell_type": "markdown",
   "metadata": {
    "id": "J8kZ0wJOscIp"
   },
   "source": [
    "# Examen de interciclo - 25 de noviembre de 2022\n",
    "## Computación Paralela - Universidad Politécnica Salesiana\n",
    "### Nombre del estudiante: ***Completar la información*** ✌\n",
    "\n",
    "\n",
    "---\n",
    "\n",
    "\n",
    "\n",
    "\n",
    "**Objetivos**\n",
    "\n",
    "\n",
    "\n",
    "*   Ejecutar algoritmos utilizando modelos de programación paralela: Procesos\n",
    "* Comparar tiempos de ejecución entre programación secuencial vs paralela\n",
    "\n",
    "**Enunciado**\n",
    "\n",
    "Por un lado, en matemáticas, la multiplicación o producto de matrices es la operación de composición efectuada entre dos matrices, o bien la multiplicación entre una matriz y un escalar según unas determinadas reglas. Por ejemplo,\n",
    "\n",
    "\n",
    "![bd625cfc77b1d9716789bc6faa8c9ec7fec42366.svg](data:image/svg+xml;base64,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)\n",
    "\n",
    "\n",
    "Por otro lado, los cálculos pueden estar limitados cuando el conjunto de matrices asociadas son demasiado grandes. Entonces, se busca que se reparta el trabajo entre al menos 8 procesos para disminuir el tiempo de ejecución utilizando la biblioteca **multiprocessing** de Python. \n",
    "\n",
    "Se pide *Completar las celdas con TODO*\n",
    "\n",
    "**Rubrica de evaluación**\n",
    "\n",
    "\n",
    "1.   Desarrollo de funciones multiproceso (5 puntos)\n",
    "2.   Ejecución de funciones multiproceso (3 puntos)\n",
    "3.   Obtención de una aceleración de al menos 3x (5 puntos)\n",
    "4.   Cálculo y presentación de resultados (2 puntos)\n",
    "5.   Conclusiones (5 puntos)\n",
    "\n",
    "**Entrega de examen**\n",
    "\n",
    "*    Se debe cargar al AVAC el libro de jupyter en formato HTML y formato ipynb con todas las celdas ejecutadas para su revisión. *Si la celda no se encuentra ejecutada se asumirá que no se soluciono ese punto.*\n",
    "\n",
    "**Observación**\n",
    "\n",
    "*   Para un mejor desempeño de los tiempos de ejecución, desarrollar el examen en la plataforma **Google Colab**\n"
   ]
  },
  {
   "cell_type": "code",
   "execution_count": 1,
   "metadata": {
    "colab": {
     "base_uri": "https://localhost:8080/"
    },
    "id": "QrHOFMwltfkU",
    "outputId": "24fb0574-bab5-48d9-ab19-e9c23c7dbf33"
   },
   "outputs": [
    {
     "name": "stdout",
     "output_type": "stream",
     "text": [
      "[[0.01 0.09 0.02 ... 0.   0.08 0.09]\n",
      " [0.06 0.01 0.09 ... 0.05 0.   0.04]\n",
      " [0.01 0.05 0.02 ... 0.02 0.09 0.09]\n",
      " ...\n",
      " [0.05 0.07 0.02 ... 0.01 0.04 0.04]\n",
      " [0.   0.06 0.04 ... 0.02 0.02 0.07]\n",
      " [0.06 0.09 0.06 ... 0.04 0.01 0.01]]\n",
      "[[0.05 0.06 0.03 ... 0.   0.07 0.02]\n",
      " [0.   0.01 0.08 ... 0.07 0.02 0.05]\n",
      " [0.06 0.04 0.07 ... 0.02 0.07 0.  ]\n",
      " ...\n",
      " [0.04 0.05 0.07 ... 0.09 0.   0.07]\n",
      " [0.02 0.07 0.03 ... 0.03 0.01 0.01]\n",
      " [0.07 0.01 0.04 ... 0.05 0.05 0.04]]\n"
     ]
    }
   ],
   "source": [
    "# generación de matrices\n",
    "import numpy as np   \n",
    "import multiprocessing\n",
    "\n",
    "size_ = (512,512)\n",
    "matriz1 = np.random.randint(10, size=size_).astype(\"float\") / 100\n",
    "matriz2 = np.random.randint(10, size=size_).astype(\"float\") / 100\n",
    "  \n",
    "print(matriz1[:10][:10])\n",
    "print(matriz2[:10][:10])"
   ]
  },
  {
   "cell_type": "code",
   "execution_count": 2,
   "metadata": {
    "id": "kcueKL6Ks8kp"
   },
   "outputs": [
    {
     "name": "stdout",
     "output_type": "stream",
     "text": [
      "El proceso de multiplicar las matrices secuencialmente se ejecutó en 61 segundos\n"
     ]
    }
   ],
   "source": [
    "# muktiplicacion de matrices secuencial\n",
    "import time\n",
    "inicio = time.time()\n",
    "\n",
    "filas_a = len(matriz1)\n",
    "filas_b = len(matriz2)\n",
    "columnas_a = len(matriz1[0])\n",
    "columnas_b = len(matriz2[0])\n",
    "\n",
    "if columnas_a != filas_b:\n",
    "    print('No es posible realizar la multiplicacion de matrices')\n",
    "\n",
    "producto = np.zeros(dtype=float, shape=size_)\n",
    "for i in range(filas_a):\n",
    "    for j in range(columnas_b):\n",
    "        suma = 0\n",
    "        for k in range(columnas_a):\n",
    "            suma += matriz1[i][k] * matriz2[k][j]\n",
    "        producto[i][j] = suma\n",
    "fin = time.time()\n",
    "finalsecuencia = (fin - inicio)\n",
    "print(\"El proceso de multiplicar las matrices secuencialmente se ejecutó en %d segundos\" % (fin - inicio))"
   ]
  },
  {
   "cell_type": "code",
   "execution_count": 3,
   "metadata": {
    "colab": {
     "base_uri": "https://localhost:8080/"
    },
    "id": "urfemo0lsbKE",
    "outputId": "eb1f1642-7427-4b1d-db8e-23e5e594e53c"
   },
   "outputs": [
    {
     "name": "stdout",
     "output_type": "stream",
     "text": [
      "Mis resultados obtenidos\n",
      "0.010000 * 0.080000 = 1.010600\n",
      "0.010000 * 0.020000 = 1.081400\n",
      "0.070000 * 0.080000 = 1.106600\n",
      "0.060000 * 0.050000 = 1.045800\n",
      "0.000000 * 0.030000 = 0.933000\n",
      "Resultados de numpy\n",
      "0.010000 * 0.080000 = 1.010600\n",
      "0.010000 * 0.020000 = 1.081400\n",
      "0.070000 * 0.080000 = 1.106600\n",
      "0.060000 * 0.050000 = 1.045800\n",
      "0.000000 * 0.030000 = 0.933000\n",
      "¿Los resultados son correctos? True\n"
     ]
    }
   ],
   "source": [
    "# comprobando los resultados\n",
    "print('Mis resultados obtenidos')\n",
    "for i in range(5):\n",
    "  print(\"%f * %f = %f\" % (matriz1[i][i], matriz2[i][i], producto[i][i]))\n",
    "\n",
    "print('Resultados de numpy')\n",
    "producto_res = np.dot(matriz1, matriz2)\n",
    "for i in range(5):\n",
    "  print(\"%f * %f = %f\" % (matriz1[i][i], matriz2[i][i], producto_res[i][i]))\n",
    "\n",
    "print('¿Los resultados son correctos?', np.allclose(producto, producto_res))"
   ]
  },
  {
   "cell_type": "code",
   "execution_count": 4,
   "metadata": {
    "id": "CkA5GExtxmkB"
   },
   "outputs": [],
   "source": [
    "#TODO: implementar los metodos necesarios para realizar la multiplicacion de matrices aplicando técnicas de multiprocesamiento\n"
   ]
  },
  {
   "cell_type": "code",
   "execution_count": 2,
   "metadata": {
    "id": "_F_FzCHNHyXY"
   },
   "outputs": [],
   "source": [
    "import multiprocessing\n",
    "from multiprocessing import Array\n",
    "import time"
   ]
  },
  {
   "cell_type": "code",
   "execution_count": 22,
   "metadata": {
    "id": "BeY268P4vNAq"
   },
   "outputs": [],
   "source": [
    "def multiplicacion(filas,columnas,resultado,posicion):\n",
    "    \n",
    "    \n",
    "#     if posicion == 1:\n",
    "    filas_a = len(filas[0])\n",
    "    filas_b = len(columnas)\n",
    "    columnas_a = len(filas[1])\n",
    "    columnas_b = len(columnas[0])\n",
    "#         print(filas_a)\n",
    "#         print(filas_b)\n",
    "#         print(columnas_a)\n",
    "#         print(columnas_b)\n",
    "    \n",
    "    \n",
    "    size_ = (filas_a,filas_b)\n",
    "    calculo = np.zeros(dtype=float, shape=size_)\n",
    "    for i in range(filas_a):\n",
    "        for j in range(filas_b):\n",
    "            suma = 0\n",
    "            for k in range(filas_b):\n",
    "                suma += filas[posicion][i][k] * columnas[k][j]\n",
    "            calculo[i][j] = suma\n",
    "        \n",
    "#     Lista = np.concatenate((calculo[0],calculo[1],calculo[2],calculo[3],calculo[4],calculo[5],calculo[6],calculo[7]), axis=1)\n",
    "    resultado[posicion]=calculo"
   ]
  },
  {
   "cell_type": "code",
   "execution_count": null,
   "metadata": {
    "colab": {
     "base_uri": "https://localhost:8080/"
    },
    "id": "nCqMbF-Qxep2",
    "outputId": "f7a15db3-254e-48f3-a110-a481fa407e4f"
   },
   "outputs": [],
   "source": [
    "if __name__ == \"__main__\": \n",
    "    inicio = time.time()\n",
    "    \n",
    "    manager = multiprocessing.Manager()\n",
    "    resultado = manager.list([0,0,0,0,0,0,0,0])\n",
    "    filas=np.vsplit(matriz1,8)\n",
    "    columnas=matriz2\n",
    "    arregloProcesos=[]\n",
    "    \n",
    "    \n",
    "    for i in range(0,8):\n",
    "        proceso=multiprocessing.Process(target=multiplicacion,args=(filas,columnas,resultado,i))\n",
    "        arregloProcesos.append(proceso)\n",
    "        proceso.start()   \n",
    "\n",
    "    for i in arregloProcesos:\n",
    "        i.join()\n",
    "   \n",
    "    fin = time.time() \n",
    "    tiempoP=fin - inicio\n",
    "    print(\"El proceso de multiplicacion las matrices paralelamente se ejecutó en %d segundos\" % (fin - inicio))\n",
    "    "
   ]
  },
  {
   "cell_type": "code",
   "execution_count": 5,
   "metadata": {
    "id": "uKX7-i2YH3Ok"
   },
   "outputs": [
    {
     "name": "stdout",
     "output_type": "stream",
     "text": [
      "Mis resultados obtenidos\n",
      "0.010000 * 0.050000 = 1.077600\n",
      "0.010000 * 0.010000 = 1.062100\n",
      "0.020000 * 0.070000 = 0.973600\n",
      "0.010000 * 0.040000 = 1.077600\n",
      "0.010000 * 0.040000 = 1.034400\n",
      "Resultados de numpy\n",
      "0.010000 * 0.050000 = 1.077600\n",
      "0.010000 * 0.010000 = 1.062100\n",
      "0.020000 * 0.070000 = 0.973600\n",
      "0.010000 * 0.040000 = 1.077600\n",
      "0.010000 * 0.040000 = 1.034400\n",
      "¿Los resultados son correctos? True\n"
     ]
    }
   ],
   "source": [
    "# comprobando los resultados\n",
    "\n",
    "ListaUnida = np.concatenate((resultado[0],resultado[1],resultado[2],resultado[3],resultado[4],resultado[5],resultado[6],resultado[7]), axis=0)\n",
    "print('Mis resultados obtenidos')\n",
    "for i in range(5):\n",
    "  print(\"%f * %f = %f\" % (matriz1[i][i], matriz2[i][i], resultado[0][i][i]))\n",
    "\n",
    "print('Resultados de numpy')\n",
    "\n",
    "producto_res = np.dot(matriz1, matriz2)\n",
    "for i in range(5):\n",
    "  print(\"%f * %f = %f\" % (matriz1[i][i], matriz2[i][i], producto_res[i][i]))\n",
    "\n",
    "print('¿Los resultados son correctos?', np.allclose(ListaUnida, producto_res))"
   ]
  },
  {
   "cell_type": "code",
   "execution_count": 9,
   "metadata": {
    "id": "Is8vMH3TH3Ia"
   },
   "outputs": [
    {
     "name": "stdout",
     "output_type": "stream",
     "text": [
      "Aceleramiento =\n",
      "3.3227297773615367\n",
      "Eficiencia =\n",
      "0.4153412221701921\n"
     ]
    }
   ],
   "source": [
    "#ACELERACION\n",
    "ace=finalsecuencia/tiempoP\n",
    "print(\"Aceleramiento =\")\n",
    "print(ace)\n",
    "\n",
    "#EFICIENCIA\n",
    "efi=finalsecuencia/(8*tiempoP)\n",
    "print(\"Eficiencia =\")\n",
    "print(efi)"
   ]
  },
  {
   "cell_type": "code",
   "execution_count": 10,
   "metadata": {
    "id": "_Y39PfVYxOg5"
   },
   "outputs": [],
   "source": [
    "#TODO: imprimir los primeros cinco valores de los resultados obtenidos en el multiprocesamiento y comparar sus valores con el producto de numpy\n",
    "#print('¿Los resultados son correctos?', np.allclose(producto, producto_res))"
   ]
  },
  {
   "cell_type": "markdown",
   "metadata": {
    "id": "yHFryXEM3DXt"
   },
   "source": [
    "# Presentación de resultados\n",
    "\n",
    "***Completar la información*** ✌\n",
    "\n",
    "\n",
    "*   Tiempo de ejecución en secuencial = \n",
    "*   Tiempo de ejecución en paralelo =\n",
    "*   Aceleramiento =\n",
    "*   Eficiencia =\n",
    "\n"
   ]
  },
  {
   "cell_type": "markdown",
   "metadata": {
    "id": "DkiRhS_K4pBv"
   },
   "source": [
    "# Conclusiones\n",
    "\n",
    "***Completar la información*** ✌\n",
    "\n",
    "Con base a los resultados obtenidos, incluir conclusiones apropiadas del desarrollo del problema"
   ]
  }
 ],
 "metadata": {
  "colab": {
   "provenance": []
  },
  "kernelspec": {
   "display_name": "Python 3 (ipykernel)",
   "language": "python",
   "name": "python3"
  },
  "language_info": {
   "codemirror_mode": {
    "name": "ipython",
    "version": 3
   },
   "file_extension": ".py",
   "mimetype": "text/x-python",
   "name": "python",
   "nbconvert_exporter": "python",
   "pygments_lexer": "ipython3",
   "version": "3.9.13"
  }
 },
 "nbformat": 4,
 "nbformat_minor": 1
}
